{
  "nbformat": 4,
  "nbformat_minor": 0,
  "metadata": {
    "colab": {
      "private_outputs": true,
      "provenance": [],
      "gpuType": "T4",
      "authorship_tag": "ABX9TyPHFIDY/jda0gn7ZrYDN8Kr",
      "include_colab_link": true
    },
    "kernelspec": {
      "name": "python3",
      "display_name": "Python 3"
    },
    "language_info": {
      "name": "python"
    },
    "accelerator": "GPU"
  },
  "cells": [
    {
      "cell_type": "markdown",
      "metadata": {
        "id": "view-in-github",
        "colab_type": "text"
      },
      "source": [
        "<a href=\"https://colab.research.google.com/github/yohannes4321/2025-project-phase-mobile-tasks/blob/main/ngc_learn.ipynb\" target=\"_parent\"><img src=\"https://colab.research.google.com/assets/colab-badge.svg\" alt=\"Open In Colab\"/></a>"
      ]
    },
    {
      "cell_type": "code",
      "source": [
        "pip install \"ngcsimlib>=1.0.1\" \"numpy>=1.22.0\" \"scipy>=1.7.0\" \"jax>=0.4.28\" \"jaxlib>=0.4.28\" \"matplotlib>=3.8.0\" \"scikit-learn>=1.6.1\""
      ],
      "metadata": {
        "id": "-am1OyUo6QKC"
      },
      "execution_count": null,
      "outputs": []
    },
    {
      "cell_type": "code",
      "source": [
        "pip install -U \"jax[cuda13]\""
      ],
      "metadata": {
        "id": "Qw2wBw7H_JIl"
      },
      "execution_count": null,
      "outputs": []
    },
    {
      "cell_type": "code",
      "source": [
        "! pip install ngclearn"
      ],
      "metadata": {
        "id": "64XnAhRk6qhL"
      },
      "execution_count": null,
      "outputs": []
    },
    {
      "cell_type": "code",
      "source": [
        "!git clone https://github.com/NACLab/ngc-learn.git\n",
        "\n",
        "%cd ngc-learn"
      ],
      "metadata": {
        "id": "WgLnVOrgrqIq"
      },
      "execution_count": null,
      "outputs": []
    },
    {
      "cell_type": "code",
      "source": [
        "%cd ngc-learn"
      ],
      "metadata": {
        "id": "IFGYLQ2GuuLz"
      },
      "execution_count": null,
      "outputs": []
    },
    {
      "cell_type": "code",
      "source": [
        "!ls"
      ],
      "metadata": {
        "id": "f_wiw1kTu1Jo"
      },
      "execution_count": null,
      "outputs": []
    },
    {
      "cell_type": "code",
      "source": [
        "!pip install ."
      ],
      "metadata": {
        "id": "u1tYLuH6u8Xt"
      },
      "execution_count": null,
      "outputs": []
    },
    {
      "cell_type": "code",
      "source": [],
      "metadata": {
        "id": "IPCRY-j1u9zw"
      },
      "execution_count": null,
      "outputs": []
    }
  ]
}